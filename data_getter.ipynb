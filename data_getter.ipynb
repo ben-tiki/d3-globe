{
 "cells": [
  {
   "cell_type": "markdown",
   "metadata": {},
   "source": [
    "### Generate heatmap based of population density"
   ]
  },
  {
   "cell_type": "code",
   "execution_count": 28,
   "metadata": {},
   "outputs": [],
   "source": [
    "# importing necessary libraries\n",
    "import pandas as pd\n",
    "import matplotlib.cm as cm\n",
    "import matplotlib.colors as colors\n",
    "from matplotlib.colors import LinearSegmentedColormap"
   ]
  },
  {
   "cell_type": "markdown",
   "metadata": {},
   "source": [
    "#### Reading Dataframe"
   ]
  },
  {
   "cell_type": "code",
   "execution_count": 29,
   "metadata": {},
   "outputs": [],
   "source": [
    "df = pd.read_csv('data/world_population.csv')"
   ]
  },
  {
   "cell_type": "code",
   "execution_count": 30,
   "metadata": {},
   "outputs": [],
   "source": [
    "df[\"country\"] = df[\"country\"].str.replace(\" \", \"_\")"
   ]
  },
  {
   "cell_type": "markdown",
   "metadata": {},
   "source": [
    "#### Defining low and high colors and creating a colormap based on them"
   ]
  },
  {
   "cell_type": "code",
   "execution_count": 31,
   "metadata": {},
   "outputs": [],
   "source": [
    "my_colors = ['#D3D3D3', '#8b0000'] # -> white and red, this can be changed to any color\n",
    "cmap = LinearSegmentedColormap.from_list('my_colormap', my_colors, N=5_000)"
   ]
  },
  {
   "cell_type": "markdown",
   "metadata": {},
   "source": [
    "#### Setting lowest and highest values on the dataframe column"
   ]
  },
  {
   "cell_type": "code",
   "execution_count": 32,
   "metadata": {},
   "outputs": [],
   "source": [
    "min_value = df['population_density'].min()\n",
    "max_value = df['population_density'].max()"
   ]
  },
  {
   "cell_type": "markdown",
   "metadata": {},
   "source": [
    "#### Normalizing colors and creating function to return color based on input"
   ]
  },
  {
   "cell_type": "code",
   "execution_count": 33,
   "metadata": {},
   "outputs": [],
   "source": [
    "norm = colors.Normalize(vmin=min_value, vmax=max_value)\n",
    "f2rgb = cm.ScalarMappable(norm=norm, cmap=cmap)\n",
    "\n",
    "def f2hex(f2rgb, f):\n",
    "    \"\"\" Convert a float value to a hex color \"\"\"\n",
    "    \n",
    "    rgb = f2rgb.to_rgba(f)[:3]\n",
    "    return '#%02x%02x%02x' % tuple(int(255 * c) for c in rgb)"
   ]
  },
  {
   "cell_type": "markdown",
   "metadata": {},
   "source": [
    "#### Creating a color column, based on the population value of each row"
   ]
  },
  {
   "cell_type": "code",
   "execution_count": 34,
   "metadata": {},
   "outputs": [],
   "source": [
    "df[\"color\"] = df['population_density'].apply(lambda x: f2hex(f2rgb, x))\n"
   ]
  },
  {
   "cell_type": "markdown",
   "metadata": {},
   "source": [
    "#### Creating css file to color the SVG elements on the globe.html file"
   ]
  },
  {
   "cell_type": "code",
   "execution_count": 35,
   "metadata": {},
   "outputs": [],
   "source": [
    "for color, country in zip(df['color'], df['country']):\n",
    "\n",
    "    css_string = f\"\"\" \n",
    "    #map > svg > g > g > path.country_{country} \n",
    "    {{fill: {color};}}\t\n",
    "    \"\"\"\n",
    "\n",
    "    with open('css/map_colors.css', 'a') as f:\n",
    "        f.write(css_string)"
   ]
  }
 ],
 "metadata": {
  "kernelspec": {
   "display_name": "Python 3.9.7 64-bit",
   "language": "python",
   "name": "python3"
  },
  "language_info": {
   "codemirror_mode": {
    "name": "ipython",
    "version": 3
   },
   "file_extension": ".py",
   "mimetype": "text/x-python",
   "name": "python",
   "nbconvert_exporter": "python",
   "pygments_lexer": "ipython3",
   "version": "3.9.7"
  },
  "orig_nbformat": 4,
  "vscode": {
   "interpreter": {
    "hash": "db0e05d799ad150ff6f95b13eef15f09568f87966873a3b36fbb1aeeee34a4e4"
   }
  }
 },
 "nbformat": 4,
 "nbformat_minor": 2
}
